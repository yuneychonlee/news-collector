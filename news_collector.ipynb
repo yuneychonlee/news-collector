{
 "cells": [
  {
   "cell_type": "code",
   "execution_count": 19,
   "metadata": {},
   "outputs": [],
   "source": [
    "# Import Modules\n",
    "import os\n",
    "from datetime import datetime, timedelta\n",
    "\n",
    "from newsapi import NewsApiClient\n",
    "import pandas as pd\n",
    "\n",
    "from dotenv import load_dotenv"
   ]
  },
  {
   "cell_type": "code",
   "execution_count": null,
   "metadata": {},
   "outputs": [],
   "source": [
    "# Initialise News API\n",
    "load_dotenv()\n",
    "newsapi = NewsApiClient(api_key=os.getenv('NEWS_API_TOKEN'))"
   ]
  },
  {
   "cell_type": "code",
   "execution_count": 25,
   "metadata": {},
   "outputs": [
    {
     "name": "stdout",
     "output_type": "stream",
     "text": [
      "[{'id': 'ars-technica', 'name': 'Ars Technica', 'description': \"The PC enthusiast's resource. Power users and the tools they love, without computing religion.\", 'url': 'https://arstechnica.com', 'category': 'technology', 'language': 'en', 'country': 'us'}, {'id': 'crypto-coins-news', 'name': 'Crypto Coins News', 'description': 'Providing breaking cryptocurrency news - focusing on Bitcoin, Ethereum, ICOs, blockchain technology, and smart contracts.', 'url': 'https://www.ccn.com', 'category': 'technology', 'language': 'en', 'country': 'us'}, {'id': 'engadget', 'name': 'Engadget', 'description': 'Engadget is a web magazine with obsessive daily coverage of everything new in gadgets and consumer electronics.', 'url': 'https://www.engadget.com', 'category': 'technology', 'language': 'en', 'country': 'us'}, {'id': 'hacker-news', 'name': 'Hacker News', 'description': 'Hacker News is a social news website focusing on computer science and entrepreneurship. It is run by Paul Graham\\'s investment fund and startup incubator, Y Combinator. In general, content that can be submitted is defined as \"anything that gratifies one\\'s intellectual curiosity\".', 'url': 'https://news.ycombinator.com', 'category': 'technology', 'language': 'en', 'country': 'us'}, {'id': 'recode', 'name': 'Recode', 'description': 'Get the latest independent tech news, reviews and analysis from Recode with the most informed and respected journalists in technology and media.', 'url': 'http://www.recode.net', 'category': 'technology', 'language': 'en', 'country': 'us'}, {'id': 'techcrunch', 'name': 'TechCrunch', 'description': 'TechCrunch is a leading technology media property, dedicated to obsessively profiling startups, reviewing new Internet products, and breaking tech news.', 'url': 'https://techcrunch.com', 'category': 'technology', 'language': 'en', 'country': 'us'}, {'id': 'techradar', 'name': 'TechRadar', 'description': 'The latest technology news and reviews, covering computing, home entertainment systems, gadgets and more.', 'url': 'http://www.techradar.com', 'category': 'technology', 'language': 'en', 'country': 'us'}, {'id': 'the-next-web', 'name': 'The Next Web', 'description': 'The Next Web is one of the world’s largest online publications that delivers an international perspective on the latest news about Internet technology, business and culture.', 'url': 'http://thenextweb.com', 'category': 'technology', 'language': 'en', 'country': 'us'}, {'id': 'the-verge', 'name': 'The Verge', 'description': 'The Verge covers the intersection of technology, science, art, and culture.', 'url': 'http://www.theverge.com', 'category': 'technology', 'language': 'en', 'country': 'us'}, {'id': 'wired', 'name': 'Wired', 'description': 'Wired is a monthly American magazine, published in print and online editions, that focuses on how emerging technologies affect culture, the economy, and politics.', 'url': 'https://www.wired.com', 'category': 'technology', 'language': 'en', 'country': 'us'}]\n"
     ]
    }
   ],
   "source": [
    "# Select tech news sources\n",
    "news_sources = newsapi.get_sources()\n",
    "tech_news = []\n",
    "\n",
    "for source in news_sources['sources']:\n",
    "    if source['language'] == 'en' and source['category'] == 'technology':\n",
    "        tech_news.append(source)\n",
    "\n",
    "print(tech_news)"
   ]
  },
  {
   "cell_type": "code",
   "execution_count": 43,
   "metadata": {},
   "outputs": [],
   "source": [
    "# Date periods for News API\n",
    "prev_date = datetime.today() - timedelta(days=30) # Free tier has a limit of 30 days\n",
    "next_date = datetime.today()\n",
    "\n",
    "prev_date_str = f\"{prev_date.year}-{prev_date.month:02d}-{prev_date.day:02d}\"\n",
    "next_date_str = f\"{next_date.year}-{next_date.month:02d}-{next_date.day:02d}\"\n",
    "\n",
    "# Retrieve news articles from the sources\n",
    "def get_news(sourceId):\n",
    "    news_list = newsapi.get_everything(sources=sourceId,\n",
    "                                      from_param=prev_date,\n",
    "                                      to=next_date,\n",
    "                                      language='en',\n",
    "                                      sort_by='relevancy',\n",
    "                                      page=1)\n",
    "    \n",
    "    newsData = []\n",
    "    for news in news_list['articles']:\n",
    "        list = [news['source']['name'], news['title'],news['content']]\n",
    "        newsData.append(list)        \n",
    "\n",
    "    return newsData"
   ]
  },
  {
   "cell_type": "code",
   "execution_count": 44,
   "metadata": {},
   "outputs": [
    {
     "name": "stdout",
     "output_type": "stream",
     "text": [
      "           name                                              title  \\\n",
      "0  Ars Technica  FDA’s review of MDMA for PTSD highlights study...   \n",
      "1  Ars Technica  Gaming historians preserve what’s likely Ninte...   \n",
      "2  Ars Technica  Ancient Maya DNA shows male kids were sacrific...   \n",
      "3  Ars Technica  Report: Apple isn’t paying OpenAI for ChatGPT ...   \n",
      "4  Ars Technica  May contain nuts: Precautionary allergen label...   \n",
      "\n",
      "                                                text  \n",
      "0  Enlarge/ MDMA is now in the FDA's hands.\\r\\n10...  \n",
      "1  Enlarge/ \"So slim you can play it anywhere.\" \\...  \n",
      "2  Enlarge/ Detail from the reconstructed stone t...  \n",
      "3  80\\r\\nOn Monday, Apple announced it would be i...  \n",
      "4  128\\r\\nWhen Ina Chung, a Colorado mother, firs...  \n"
     ]
    }
   ],
   "source": [
    "# Create news dataframe\n",
    "df = pd.DataFrame.from_records(get_news(tech_news[0]['id']))\n",
    "df.columns = ['source', 'title', 'text']\n",
    "print(df.head())"
   ]
  }
 ],
 "metadata": {
  "kernelspec": {
   "display_name": "Python 3",
   "language": "python",
   "name": "python3"
  },
  "language_info": {
   "codemirror_mode": {
    "name": "ipython",
    "version": 3
   },
   "file_extension": ".py",
   "mimetype": "text/x-python",
   "name": "python",
   "nbconvert_exporter": "python",
   "pygments_lexer": "ipython3",
   "version": "3.10.0"
  }
 },
 "nbformat": 4,
 "nbformat_minor": 2
}
